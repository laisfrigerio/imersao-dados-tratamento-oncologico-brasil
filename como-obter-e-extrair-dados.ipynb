{
 "cells": [
  {
   "cell_type": "markdown",
   "id": "138dd9ab",
   "metadata": {},
   "source": [
    "# Como ler dados dos datasets do DATASUS\n",
    "\n",
    "Este jupyter notebook tem a missão de análisar os dados de `Tratamento Oncológica no Brasil` do período de 2013 à 2025."
   ]
  },
  {
   "cell_type": "markdown",
   "id": "f9ef5cf5",
   "metadata": {},
   "source": [
    "## Extração dos dados do DataSUS"
   ]
  },
  {
   "cell_type": "markdown",
   "id": "31cf170f",
   "metadata": {},
   "source": [
    "### Import libraries"
   ]
  },
  {
   "cell_type": "code",
   "execution_count": null,
   "id": "23f181e0",
   "metadata": {},
   "outputs": [],
   "source": [
    "import pandas as pd\n",
    "import numpy as np\n",
    "\n",
    "# decompactar dados do Datasus\n",
    "from dbfread import DBF\n",
    "import datasus_dbc\n",
    "\n",
    "# Visualização de dadoS\n",
    "import matplotlib.pyplot as plt\n",
    "import seaborn as sns\n",
    "import kuka\n",
    "\n",
    "# import zlib\n",
    "# import io\n",
    "# import os"
   ]
  },
  {
   "cell_type": "markdown",
   "id": "8ef2381d",
   "metadata": {},
   "source": [
    "### Importe dos dados"
   ]
  },
  {
   "cell_type": "markdown",
   "id": "55f9998e",
   "metadata": {},
   "source": [
    "1. Os dados compactados (tipo \".dbc\") foram obtidos diretamento do [DataSUS - Transferência de Arquivos](https://datasus.saude.gov.br/transferencia-de-arquivos/) website.\n",
    "\n",
    "2. Para descompactar e transformar em um arquivo CSV, eu usei as libs datasus_dbc e dbfread, respectivamente. A primeira (`datasus_dbc`) gera um arquivo com a extensão \".dbf\". Já a partir da segunda biblioteca (`dbfread`) é possível ler um arquivo .dbf, converter seu conteúdo em um DataFrame e gerar um arquivo `.csv` a partir do DataFrame."
   ]
  },
  {
   "cell_type": "markdown",
   "id": "565b45e0",
   "metadata": {},
   "source": [
    "> Fiz isso para os anos de 2013 a julho de 2025 e coloquei os arquivos `.dbc`, `.dbf` e `.csv` em uma pasta chamada `./datasets`."
   ]
  },
  {
   "cell_type": "code",
   "execution_count": null,
   "id": "4fa65317",
   "metadata": {},
   "outputs": [],
   "source": [
    "# 2013 - 2025 nome dos databases:\n",
    "files = ['POBR2013', 'POBR2014',\n",
    "        'POBR2015', 'POBR2016',\n",
    "        'POBR2017', 'POBR2018', \n",
    "        'POBR2019', 'POBR2020',\n",
    "        'POBR2021', 'POBR2022',\n",
    "        'POBR2023', 'POBR2024',\n",
    "        'POBR2025']\n",
    "\n",
    "def pathnameDBC(name):\n",
    "    return f'./datasets/{name}.dbc'\n",
    "\n",
    "def pathnameDBF(name):\n",
    "    return f'./datasets/dbf/{name}.dbf'\n",
    "\n",
    "def pathnameCSV(name):\n",
    "    return f'./datasets/csv/{name}.csv'"
   ]
  },
  {
   "cell_type": "markdown",
   "id": "54a1465d",
   "metadata": {},
   "source": [
    "### Criação de diretórios"
   ]
  },
  {
   "cell_type": "code",
   "execution_count": null,
   "id": "5b4c1222",
   "metadata": {},
   "outputs": [],
   "source": [
    "os.makedirs('./datasets/dbf', exist_ok=True)\n",
    "os.makedirs('./datasets/csv', exist_ok=True)"
   ]
  },
  {
   "cell_type": "markdown",
   "id": "3e41de82",
   "metadata": {},
   "source": [
    "### Descompacta arquivos DBF"
   ]
  },
  {
   "cell_type": "code",
   "execution_count": null,
   "id": "3e443c89",
   "metadata": {},
   "outputs": [],
   "source": [
    "# Unpacking DBC to DBF\n",
    "for file in files:\n",
    "    datasus_dbc.decompress(pathnameDBC(file), pathnameDBF(file))"
   ]
  },
  {
   "cell_type": "markdown",
   "id": "785f7b6f",
   "metadata": {},
   "source": [
    "### Gera arquivos CSVs"
   ]
  },
  {
   "cell_type": "code",
   "execution_count": null,
   "id": "afa51847",
   "metadata": {},
   "outputs": [],
   "source": [
    "for file in files:\n",
    "    # Lê o DBF com encoding para acentos\n",
    "    dbf = DBF(pathnameDBF(file), encoding=\"latin1\")\n",
    "\n",
    "    # Converte para DataFrame\n",
    "    df = pd.DataFrame(iter(dbf))\n",
    "\n",
    "    # Salva como CSV\n",
    "    df.to_csv(f'./datasets/csv/{file}.csv', index=False)"
   ]
  }
 ],
 "metadata": {
  "kernelspec": {
   "display_name": "oncology-treatment-datasus-sq_En52u",
   "language": "python",
   "name": "python3"
  },
  "language_info": {
   "name": "python",
   "version": "3.12.11"
  }
 },
 "nbformat": 4,
 "nbformat_minor": 5
}
