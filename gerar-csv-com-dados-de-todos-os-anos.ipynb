{
 "cells": [
  {
   "cell_type": "markdown",
   "id": "1054b1aa",
   "metadata": {},
   "source": [
    "# Gerando um arquivo CSV com os dados de todos os anos (2013 à 2025)"
   ]
  },
  {
   "cell_type": "code",
   "execution_count": 1,
   "id": "0b289ff3",
   "metadata": {},
   "outputs": [],
   "source": [
    "import glob\n",
    "import pandas as pd\n",
    "\n",
    "csv_files = glob.glob('./datasets/csv/*.csv')\n",
    "df_list = [pd.read_csv(file) for file in csv_files]\n",
    "merged_df = pd.concat(df_list, ignore_index=True)\n",
    "merged_df.to_csv('./datasets/csv/todos-os-anos.csv', index=False)"
   ]
  }
 ],
 "metadata": {
  "kernelspec": {
   "display_name": "oncology-treatment-datasus-sq_En52u",
   "language": "python",
   "name": "python3"
  },
  "language_info": {
   "codemirror_mode": {
    "name": "ipython",
    "version": 3
   },
   "file_extension": ".py",
   "mimetype": "text/x-python",
   "name": "python",
   "nbconvert_exporter": "python",
   "pygments_lexer": "ipython3",
   "version": "3.12.11"
  }
 },
 "nbformat": 4,
 "nbformat_minor": 5
}
